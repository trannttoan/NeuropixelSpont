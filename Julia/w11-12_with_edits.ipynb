{
 "cells": [
  {
   "cell_type": "markdown",
   "metadata": {},
   "source": [
    "# Analysis of Steinmetz Neuropixels recordings of spontaneous activity in mice (Week 11-12)\n",
    "---\n",
    "This notebook contains consolidated materials from week 1 to 10, consisting of the following sections:\n",
    "- Overview of dataset\n",
    "- Correlation-matrix-based Hierarchical Clustering"
   ]
  },
  {
   "cell_type": "code",
   "execution_count": null,
   "metadata": {},
   "outputs": [],
   "source": [
    "using Plots, Measures; gr()\n",
    "using MAT, Printf\n",
    "using LinearAlgebra, Statistics, Random\n",
    "using Clustering, Distances\n",
    "using InformationMeasures\n",
    "using BenchmarkTools"
   ]
  },
  {
   "cell_type": "markdown",
   "metadata": {},
   "source": [
    "## Overview of dataset"
   ]
  },
  {
   "cell_type": "markdown",
   "metadata": {},
   "source": [
    "### Backgrounds\n",
    "The dataset in its original form contains dataset types consistent with the *Open Neurophysiology Environment* (ONE) standard, which is part of a system proposed by the International Brain Laboratory (IBL) and colleagues with the aim of facilitating large-scale collaboration in neuroscience. Specifically, the main data consists of eight-probe Neuropixels recordings of spontaneous activity in three mice in the following format:\n",
    "- spks(k).st = time of spikes in seconds\n",
    "- spks(k).clu = neuron ID associated with each spike in st\n",
    "- spks(k).Wheights = height of each neuron on the probe [IS THIS `Wheights` or `heights`?\n",
    "\n",
    "Note: Data from each mouse is stored in a **spks** which is a matlab structure with eight immediate children each corresponding to a probe. Therefore , $k$ ranges from 1 to 8. Supplementary data, such as labeling of the brain area based on location and information about the probes are also included. The following is an illustration of the probes inside a wire-mesh brain using location information of the probes in the Allen CCF framework. The probes have one of three colors, and each color is associated with one of the three mice.\n",
    "\n",
    "![alt](./Plots/meshbrain.png)\n",
    "\n",
    "In its original form, the data does not allow for considerable freedom in analysis and, fortunately, a matlab file for preprocessing the data is included. [WHAT DO YOU MEAN BY \"DOES NOT ALLOW FOR CONSIDERABLE FREEDOM OF ANALYSIS\"]  After executing the code, the data are stored in 1D and 2D arrays each assigned to a variable. [AREN'T ARRAYS ALWAYS ASSIGNED TO A VARIABLE? WHAT IS THE ALTERNATIVE? DO YOU MEAN \"VARIABLE NAME\", A \"TAG\", A \"LABEL\"? YOU MUST BE AS PRECISE AS POSSIBLE.] Listing and details of these variables are provided in the next section."
   ]
  },
  {
   "cell_type": "markdown",
   "metadata": {},
   "source": [
    "### Components\n",
    "The processed data for each of the three mice are stored in a `.mat` file, containing the following variables:\n",
    "- `areaLabels` string array of abbreviated names of different brain areas\n",
    "- `brainLoc` array of indexes corresponding to brain areas in `areaLabels` (one for each neuron) [TO BE CLEAR: IF THERE ARE 5 BRAIN AREAS, EACH NEURON HAS A NUMBER FROM 0 TO 4? DO THE DIFFERENT MICE HAVE THE SAME NUMBER OF BRAIN AREAS AND ARE THEY NUMBERED THE SAME WAY? \n",
    "- `iprobe` array of probes IDs (one for each neuron)  [IS THIS A SINGLE ARRAY ACROSS ALL MICE OR ONE ARRAY PER MOUSE. YOU ARE NOT CLEAR ABOUT THIS]\n",
    "- `mostSVD` svd components of movie frames of mouse face during recording period  [WHY `mostSVD` AS OPPOSED TO `SVD`? IS THIS JUST THE DOMINANT SVDS? YOU SEE ALL THE QUESTIONS I ASK?]\n",
    "- `srate` sampling rate (30Hz)\n",
    "- `stall` matrix containing spike trains of all neurons [WHAT ARE DIMENSIONS OF THIS MATRIX? M[I,J]. WHAT IS I AND WHAT IS J? WHAT ARE MAXIMUM AND MINIMUM VALUES? WHAT DOES THE VALUE OF M[I,J] REPRESENT?]\n",
    "- `tspont` array of sample timestamps\n",
    "- `tVid` times of movie frames in spike reference timeframe [NOT SURE WHAT THIS MEANS]\n",
    "- `Wh` array of relative heights of the neurons [WHAT IS MEANT BY `RELATIVE HEIGHTS`?\n",
    "\n",
    "[YOU SHOULD ANSWER ALL THE QUESTIONS I ASK IN A PARAGRAPH FOLLOWING THE LIST OF VARIABLES]\n",
    "The variables are loaded into THE workspace as elements of a dictionary using the `MAT` package as shown below."
   ]
  },
  {
   "cell_type": "code",
   "execution_count": null,
   "metadata": {
    "collapsed": true
   },
   "outputs": [],
   "source": [
    "# Load all data in a three-element array of dictionaries\n",
    "# Each element corresponding to each mouse maps variable names to their contents  \n",
    "mice_names = [\"Krebs\", \"Waksman\", \"Robbins\"]\n",
    "data = [MAT.matread(\"./Data/$(mice_names[i])withFaces_KS2.mat\") for i in 1:3];"
   ]
  },
  {
   "cell_type": "markdown",
   "metadata": {},
   "source": [
    "The following cells illustrate the spiking activity of neurons in each mouse. Note that the heatmaps were modified to only show whether spikes were detected: dark and bright pixels indicate the absence and presence of spikes. Although a sample for a neuron (an element in the spike train matrix) can have values greater than one, this is relatively rare. These values are sometimes high enough that the unaltered heatmap looks almost uniformly dark, which defeats the purpose of the illustrations. One option is to make the heatmap \"binary\", showing presence and absence of spikes and, as a result, one can easily see that the former is dominant in all three cases. Also of note is that we scale the x and y axes of the heatmaps based on the number of neurons involved and the length of the recording period to show the difference in size of data between the mice. Therefore, the range of the $x$ and $y$ axes are the same for all three mice. [I ADDED THIS SENTENCE. IS IT CORRECT? IF NOT, THAT MEANS I DO NOT UNDERSTAND YOUR COMMENT ABOUT SCALING THE X AND Y AXES OF THE HEATMAPS.]"
   ]
  },
  {
   "cell_type": "code",
   "execution_count": null,
   "metadata": {},
   "outputs": [],
   "source": [
    "# Run the following code to demonstrate that heatmap does not generate a bindary: \n",
    "\n",
    "function testHeatmap()\n",
    "\th = Random.randn(20,20)\t\n",
    "\tprintln(\"min(h): \", minimum(h))\n",
    "\tprintln(\"max(h): \", maximum(h))\n",
    "\tprintln()\n",
    "\tdisplay(heatmap(h,clim=(0,1), colorbar=false))\n",
    "end\n",
    "\n",
    "testHeatmap()"
   ]
  },
  {
   "cell_type": "code",
   "execution_count": null,
   "metadata": {},
   "outputs": [],
   "source": [
    "function spkTrainShow(data, names, id)\n",
    "    st_all = data[id][\"stall\"]\n",
    "    n_neuron, n_sample = size(st_all)  # GE: strictly speaking, it should be n_neurons, n_samples\n",
    "    display(heatmap(st_all, clim=(0, 1), yticks=0:500:3000, yflip=true, colorbar=false, \n",
    "            size=(round(n_sample/5000)*100, round(n_neuron/10)), bottom_margin=5mm))\n",
    "    println(\"Name: $(names[id])\\tID: $id\")\n",
    "    println(\"Number of neurons: $n_neuron\")\n",
    "    println(\"Number of samples (length of recording x sampling rate): $n_sample\")\n",
    "    println(\"Largest number of spikes of a neuron in a sample: $(maximum(st_all))\")\n",
    "end\n",
    "# GE: I am not convinced that your heatmap has only two colors. \n",
    "# This would only be the case if `st_all` had only two possible values. "
   ]
  },
  {
   "cell_type": "code",
   "execution_count": null,
   "metadata": {},
   "outputs": [],
   "source": [
    "spkTrainShow(data, mice_names, 1)"
   ]
  },
  {
   "cell_type": "code",
   "execution_count": null,
   "metadata": {},
   "outputs": [],
   "source": [
    "spkTrainShow(data, mice_names, 2)"
   ]
  },
  {
   "cell_type": "code",
   "execution_count": null,
   "metadata": {},
   "outputs": [],
   "source": [
    "spkTrainShow(data, mice_names, 3)"
   ]
  },
  {
   "cell_type": "markdown",
   "metadata": {},
   "source": [
    "The next few cells include plots of the heights of the neurons on individual probes to provide a sense of the distance between the neurons. This becomes relevant in the analysis portion of this notebook.\n",
    "[MAKE SURE YOU HAVE A SUBTITLE CALLED \"ANALYSIS\" SO THAT THE READER SEES THE LINK BETWEEN WHAT YOU JUST WROTE AND THE ANALYSIS PORTION OF THE NOTEBOOK.]"
   ]
  },
  {
   "cell_type": "code",
   "execution_count": null,
   "metadata": {},
   "outputs": [],
   "source": [
    "\"\"\" Add DocStrings ahead of every function \n",
    " https://docs.julialang.org/en/v1/manual/documentation/ \n",
    "Document the meaning of the arguments. Get into the habit.\n",
    "If `id` refers to the mouse id, replace `id` by `mouse_id` \"\"\"\n",
    "function hobShow(data, id)\n",
    "    plot_array = Array{Plots.Plot{Plots.GRBackend}}(undef, 8)\n",
    "    probe_ids = data[id][\"iprobe\"]\n",
    "    hob_all = data[id][\"Wh\"]\n",
    "    \n",
    "    for i=1:8\n",
    "        hob_iprobe = hob_all[vec(probe_ids .== i)]\n",
    "        plot_array[i] = scatter(hob_iprobe, ylim=(0, 4000), xlabel=\"Neuron\", ylabel=\"Height (μm)\", title=\"M$id-P$i\", legend=false, markersize=1)\n",
    "    end\n",
    " b   \n",
    "    display(plot(plot_array..., layout=(4, 2), size=(1250, 1800), left_margin=8mm))\n",
    "end"
   ]
  },
  {
   "cell_type": "code",
   "execution_count": null,
   "metadata": {},
   "outputs": [],
   "source": [
    "hobShow(data, 1)"
   ]
  },
  {
   "cell_type": "code",
   "execution_count": null,
   "metadata": {},
   "outputs": [],
   "source": [
    "hobShow(data, 2)"
   ]
  },
  {
   "cell_type": "code",
   "execution_count": null,
   "metadata": {},
   "outputs": [],
   "source": [
    "hobShow(data, 3)"
   ]
  },
  {
   "cell_type": "markdown",
   "metadata": {},
   "source": [
    "## Correlation-matrix-based Hierarchical Clustering"
   ]
  },
  {
   "cell_type": "markdown",
   "metadata": {},
   "source": [
    "### Comparison of correlation to other similarity/distance measures"
   ]
  },
  {
   "cell_type": "markdown",
   "metadata": {},
   "source": [
    "[GE] Describe the arguments of the `spkCorCompare` function using \"\"\"docString\"\"\" in front of the function. `link` and `id` are not obvious. Here is a version easier to understand."
   ]
  },
  {
   "cell_type": "markdown",
   "metadata": {},
   "source": [
    "[GE] What is the difference between `byprobe=false` or `true`? It is either one matrix per probe versus one matrix per mouse, correct. That means that before computing the correlation, mutual information, distances, the only thing that changes is the matrix size and content. Therefore, the code is easier to understand if you have three functions: `distance`, `correlation`, `mutualInformation` that take as input, matrix and other quantities associated with the matrix. Then all you do in your code is something like: \n",
    "\n",
    "```if byprobe\n",
    "   setup matrices for byprobe\n",
    "   for i in probes\n",
    "      distance()\n",
    "      correlation()\n",
    "      mutualInformation()\n",
    "      plotData()\n",
    "   end\n",
    "else\n",
    "   setup matrices for this case\n",
    "   distance()\n",
    "   correlation()\n",
    "   mutualInformation()\n",
    "   plotData()\n",
    "end```\n",
    "\n",
    "The code above is simpler to understand and is self-documented. It is up to you how to choose the function arguments for clarity. Smaller functions promote reusability. This code is also easier to debug. Finally, it is better to keep all information related to mutual information in one place, all information related to correlation in one place, etc. In C++ or Python, you'd create classes for Correlation, MutualInformation, etc. "
   ]
  },
  {
   "cell_type": "code",
   "execution_count": null,
   "metadata": {},
   "outputs": [],
   "source": [
    "function spkCorCompare(data, id, link, metric_sym=:None, byprobe=false)\n",
    "    st_all = data[id][\"stall\"]      # muti-neuron spike train matrix\n",
    "    hop_all = data[id][\"Wh\"]        # relative height of each neuron on a probe\n",
    "    \n",
    "    n_neuron = size(st_all, 1)\n",
    "    sym2func = Dict(:CosD => Distances.CosineDist(), :EucD => Distances.Euclidean())\n",
    "    \n",
    "    if byprobe\n",
    "        probe_ids = data[id][\"iprobe\"]        # array of corresponding probe IDs\n",
    "        plot_array = Array{Plots.Plot{Plots.GRBackend}}(undef, 8*3)\n",
    "        \n",
    "        for i=1:8\n",
    "            extract_ids = vec(probe_ids .== i)\n",
    "            st_iprobe = st_all[extract_ids, :]\n",
    "            n_neuron_iprobe = size(st_iprobe, 1)\n",
    "            \n",
    "            # proximity\n",
    "            hop_iprobe = hop_all[extract_ids]\n",
    "            n_neuron_iprobe = length(hop_iprobe)\n",
    "            rep_mat = repeat(hop_iprobe, 1, n_neuron_iprobe)\n",
    "            dist_mat = abs.(rep_mat - transpose(rep_mat)) ./ 4000\n",
    "            \n",
    "            # correlation\n",
    "            cor_mat = Statistics.cor(st_iprobe, dims=2)\n",
    "            if metric_sym != :None\n",
    "                diss_mat = Distances.pairwise(sym2func[metric_sym], cor_mat, dims=1)\n",
    "                result = Clustering.hclust(diss_mat, linkage=link)\n",
    "                clust_idx = result.order\n",
    "            else\n",
    "                clust_idx = 1:n_neuron_iprobe\n",
    "            end\n",
    "            \n",
    "            # mutual information\n",
    "            mi_mat = zeros(n_neuron_iprobe, n_neuron_iprobe)\n",
    "            for i=1:n_neuron_iprobe-1\n",
    "                for j=i+1:n_neuron_iprobe\n",
    "                    mi_mat[i, j] = InformationMeasures.get_mutual_information(st_iprobe[i, :], st_iprobe[j, :])\n",
    "                end\n",
    "            end\n",
    "\n",
    "            mi_mat = mi_mat + transpose(mi_mat)\n",
    "\n",
    "            for i=1:n_neuron_iprobe\n",
    "                mi_mat[i, i] = InformationMeasures.get_entropy(st_iprobe[i, :])\n",
    "            end\n",
    "                \n",
    "            mi_mat = log.(mi_mat)\n",
    "\n",
    "            # store plots in array\n",
    "            plot_array[i*3-2] = heatmap(dist_mat[clust_idx, clust_idx], clim=(0, 1), title=\"M$id-P$i-ndist-$metric_sym\")\n",
    "            plot_array[i*3-1] = heatmap(cor_mat[clust_idx, clust_idx], clim=(-0.3, 1), title=\"M$id-P$i-cor-$metric_sym\")\n",
    "            plot_array[i*3] = heatmap(mi_mat[clust_idx, clust_idx], clim=(-20, 1.1), title=\"M$id-P$i-minfo-$metric_sym\")\n",
    "        end \n",
    "        \n",
    "        display(plot(plot_array[1:12]..., layout=(4, 3), size=(1500, 1500), yflip=true))\n",
    "        #savefig(\"./plots/corCompare_p1-4_m$(id)($metric_sym).png\")\n",
    "        display(plot(plot_array[13:24]..., layout=(4, 3), size=(1500, 1500), yflip=true))\n",
    "        #savefig(\"./plots/corCompare_p5-8_m$(id)($metric_sym).png\")\n",
    "    else\n",
    "        # correlation\n",
    "        cor_mat = Statistics.cor(st_all, dims=2)\n",
    "        if metric_sym != :None\n",
    "            diss_mat = Distances.pairwise(sym2func[metric_sym], cor_mat, dims=1)\n",
    "            result = Clustering.hclust(diss_mat, linkage=link)\n",
    "            clust_idx = result.order\n",
    "        else\n",
    "            clust_idx = 1:n_neuron\n",
    "        end\n",
    "            \n",
    "        # proximity\n",
    "        rep_mat = repeat(hop_all, 1, n_neuron)\n",
    "        dist_mat = abs.(rep_mat - transpose(rep_mat))\n",
    "        norm_dist_mat = dist_mat ./ maximum(dist_mat)\n",
    "        \n",
    "        # mutual information\n",
    "        mi_mat = zeros(n_neuron, n_neuron)\n",
    "        for i=1:n_neuron-1\n",
    "            for j=i+1:n_neuron\n",
    "                compare_mat[i, j] = InformationMeasures.get_mutual_information(st_all[i, :], st_all[j, :])\n",
    "            end\n",
    "        end\n",
    "            \n",
    "        compare_mat = compare_mat + transpose(compare_mat)\n",
    "        \n",
    "        for i=1:n_neuron_iprobe\n",
    "            mi_mat[i, i] = InformationMeasures.get_entropy(st_iprobe[i, :])\n",
    "        end\n",
    "                \n",
    "        mi_mat = log.(mi_mat)\n",
    "        \n",
    "        p1 = heatmap(norm_dist_mat[clust_idx, clust_idx], title=\"M$id-all-ndist-$metric_sym\")\n",
    "        p2 = heatmap(cor_mat[clust_idx, clust_idx], clim=(-0.3, 1), title=\"M$id-all-cor-$metric_sym\")\n",
    "        p3 = heatmap(mi_mat[clust_idx, clust_idx], clim=(-20, 1.1), title=\"M$id-all-minfo-$metric_sym\")\n",
    "        display(plot(p1, p2, layout=(1, 3), size=(1500, 450), yflip=true))\n",
    "        #savefig(\"./plots/corVS$(comparison)_all_m$(id)($str).png\")\n",
    "    end\n",
    "    \n",
    "end"
   ]
  },
  {
   "cell_type": "code",
   "execution_count": null,
   "metadata": {
    "scrolled": true
   },
   "outputs": [],
   "source": [
    "# [GE] code is clear if you put the name of the argument: metric_sym in this case\n",
    "spkCorCompare(data, 1, :average, metric_sym:CosD, byprobe=true)"
   ]
  },
  {
   "cell_type": "code",
   "execution_count": null,
   "metadata": {},
   "outputs": [],
   "source": [
    "spkCorCompare(data, 2, :average, :CosD, true)"
   ]
  },
  {
   "cell_type": "code",
   "execution_count": null,
   "metadata": {},
   "outputs": [],
   "source": [
    "spkCorCompare(data, 3, :average, :CosD, true)"
   ]
  },
  {
   "cell_type": "markdown",
   "metadata": {},
   "source": [
    "### Cluster Analysis "
   ]
  },
  {
   "cell_type": "code",
   "execution_count": null,
   "metadata": {},
   "outputs": [],
   "source": [
    "function spkCorClust(data, id)\n",
    "    st_all = data[id][\"stall\"]\n",
    "    probe_ids = data[id][\"iprobe\"]\n",
    "    loc_all = data[id][\"brainLoc\"]\n",
    "    \n",
    "    link = :average\n",
    "    plot_array = Array{Plots.Plot{Plots.GRBackend}}(undef, 8*3)\n",
    "    \n",
    "    for i=1:8\n",
    "        extract_idx = vec(probe_ids .== i)\n",
    "        \n",
    "        # group by brain location\n",
    "        loc_iprobe   = loc_all[extract_idx]\n",
    "        sort_idx_loc = sortperm(loc_iprobe)\n",
    "        \n",
    "        # group by distance measures\n",
    "        st_iprobe    = st_all[extract_idx, :]\n",
    "        cor_mat      = Statistics.cor(st_iprobe, dims=2)\n",
    "        diss_mat     = Distances.pairwise(Distances.CosineDist(), cor_mat, dims=1)\n",
    "        # [GE] What is `linkage`? You should add some comments. What did you choose :average for `link`? Do \n",
    "        # other choices makes a difference?\n",
    "        result       = Clustering.hclust(diss_mat, linkage=link)\n",
    "        sort_idx_cos = result.order\n",
    "        diss_mat     = Distances.pairwise(Distances.Euclidean(), cor_mat, dims=1)\n",
    "        result       = Clustering.hclust(diss_mat, linkage=link)\n",
    "        sort_idx_euc = result.order\n",
    "        \n",
    "        # store plots in array  [GE: I aligned the equal signs for better readability. Then, lack of alignment\n",
    "        # of the resulting expressions makes it easier to find bugs. \n",
    "        plot_array[i*3-2] = heatmap(cor_mat[sort_idx_loc, sort_idx_loc], title=\"M$id-P$i-cor-bLoc\")\n",
    "        plot_array[i*3-1] = heatmap(cor_mat[sort_idx_cos, sort_idx_cos], title=\"M$id-P$i-cor-CosD\")\n",
    "        plot_array[i*3]   = heatmap(cor_mat[sort_idx_euc, sort_idx_euc], title=\"M$id-P$i-cor-EucD\")\n",
    "    end\n",
    "    \n",
    "    display(plot(plot_array[1:12]..., layout=(4, 3), size=(1500, 1500), clim=(-0.3, 1), yflip=true))\n",
    "    #savefig(\"./plots/corVS$(comparison)_p1-4_m$(id)($str).png\")\n",
    "    display(plot(plot_array[13:24]..., layout=(4, 3), size=(1500, 1500), clim=(-0.3, 1), yflip=true))\n",
    "    #savefig(\"./plots/corVS$(comparison)_p5-8_m$(id)($str).png\")\n",
    "end"
   ]
  },
  {
   "cell_type": "code",
   "execution_count": null,
   "metadata": {},
   "outputs": [],
   "source": [
    "spkCorClust(data, 1)"
   ]
  },
  {
   "cell_type": "code",
   "execution_count": null,
   "metadata": {},
   "outputs": [],
   "source": [
    "spkCorClust(data, 2)"
   ]
  },
  {
   "cell_type": "code",
   "execution_count": null,
   "metadata": {},
   "outputs": [],
   "source": [
    "spkCorClust(data, 3)"
   ]
  },
  {
   "cell_type": "markdown",
   "metadata": {},
   "source": [
    "AFTER EACH PLOT, ADD A COMMENT SECTION WHERE YOU DESCRIBE WHAT THE PLOTS TEACH YOU AND WHAT CONCLUSIONS YOU CAN DRAW ."
   ]
  }
 ],
 "metadata": {
  "kernelspec": {
   "display_name": "Julia 1.5.1",
   "language": "julia",
   "name": "julia-1.5"
  },
  "language_info": {
   "file_extension": ".jl",
   "mimetype": "application/julia",
   "name": "julia",
   "version": "1.5.3"
  }
 },
 "nbformat": 4,
 "nbformat_minor": 4
}
