{
 "cells": [
  {
   "cell_type": "code",
   "execution_count": 1,
   "metadata": {},
   "outputs": [
    {
     "name": "stderr",
     "output_type": "stream",
     "text": [
      "WARNING: could not import HDF5.Group into _hdf5_implementation\n",
      "WARNING: could not import HDF5.Dataset into _hdf5_implementation\n",
      "┌ Warning: Error requiring `HDF5` from `Plots`\n",
      "│   exception = (LoadError(\"C:\\\\Users\\\\trann\\\\.julia\\\\packages\\\\Plots\\\\SjqWU\\\\src\\\\backends\\\\hdf5.jl\", 162, UndefVarError(:Group)), Union{Ptr{Nothing}, Base.InterpreterIP}[Ptr{Nothing} @0x0000000068f84571, Ptr{Nothing} @0x000000006900a0fd, Ptr{Nothing} @0x000000006900a642, Ptr{Nothing} @0x000000006900a321, Ptr{Nothing} @0x000000006900ae30, Ptr{Nothing} @0x000000006900b805, Base.InterpreterIP in top-level CodeInfo for Plots._hdf5_implementation at statement 4, Ptr{Nothing} @0x0000000069028efd, Ptr{Nothing} @0x0000000069029bd9, Ptr{Nothing} @0x00000000690292ca, Ptr{Nothing} @0x0000000069029539, Ptr{Nothing} @0x0000000068ffd65b, Ptr{Nothing} @0x000000006902a81d, Ptr{Nothing} @0x00000000098b6c31, Ptr{Nothing} @0x000000004316984d, Ptr{Nothing} @0x000000006900a65c, Ptr{Nothing} @0x000000006900a321, Ptr{Nothing} @0x000000006900ae30, Ptr{Nothing} @0x000000006900b805, Base.InterpreterIP in top-level CodeInfo for Plots at statement 10, Ptr{Nothing} @0x0000000069028efd, Ptr{Nothing} @0x000000006902a63a, Ptr{Nothing} @0x00000000431697b3, Ptr{Nothing} @0x00000000431697e3, Ptr{Nothing} @0x000000002335dea1, Ptr{Nothing} @0x00000000431696ea, Ptr{Nothing} @0x0000000043169713, Ptr{Nothing} @0x000000002335d7e8, Ptr{Nothing} @0x0000000043169654, Ptr{Nothing} @0x0000000043169683, Ptr{Nothing} @0x0000000069000d28, Ptr{Nothing} @0x000000006900153a, Ptr{Nothing} @0x000000002334afaa, Ptr{Nothing} @0x000000002334b110, Ptr{Nothing} @0x0000000069000d28, Ptr{Nothing} @0x000000006900153a, Ptr{Nothing} @0x000000002336bd8d, Ptr{Nothing} @0x000000002336aabc, Ptr{Nothing} @0x00000000233709a4, Ptr{Nothing} @0x0000000023372b68, Ptr{Nothing} @0x0000000023374f46, Ptr{Nothing} @0x0000000069027fea, Ptr{Nothing} @0x00000000690293e8, Ptr{Nothing} @0x0000000068ffd65b, Ptr{Nothing} @0x00000000094845ef, Ptr{Nothing} @0x00000000232ebf4f, Ptr{Nothing} @0x00000000232e90f8, Ptr{Nothing} @0x0000000069000d28, Ptr{Nothing} @0x000000006900153a, Ptr{Nothing} @0x00000000232db13f, Ptr{Nothing} @0x00000000232db378, Ptr{Nothing} @0x00000000232db393, Ptr{Nothing} @0x000000006900f63f])\n",
      "└ @ Requires C:\\Users\\trann\\.julia\\packages\\Requires\\035xH\\src\\require.jl:44\n"
     ]
    }
   ],
   "source": [
    "using Plots, Measures; gr()\n",
    "using MAT, Printf\n",
    "using LinearAlgebra, Random\n",
    "using  Statistics, StatsBase\n",
    "using Clustering, Distances\n",
    "using InformationMeasures\n",
    "using Ripserer\n",
    "using BenchmarkTools"
   ]
  },
  {
   "cell_type": "code",
   "execution_count": 6,
   "metadata": {},
   "outputs": [],
   "source": [
    "# Load all data in a three-element array of dictionaries\n",
    "# Each element corresponding to each mouse maps variable names to their values  \n",
    "mice_names = [\"Krebs\", \"Waksman\", \"Robbins\"]\n",
    "data = [MAT.matread(\"../../Data/source/$(mice_names[i])withFaces_KS2.mat\") for i in 1:3];"
   ]
  },
  {
   "cell_type": "markdown",
   "metadata": {},
   "source": [
    "### Correlation between pair-wise distance and correlation"
   ]
  },
  {
   "cell_type": "code",
   "execution_count": 13,
   "metadata": {},
   "outputs": [
    {
     "data": {
      "text/plain": [
       "disCor (generic function with 1 method)"
      ]
     },
     "execution_count": 13,
     "metadata": {},
     "output_type": "execute_result"
    }
   ],
   "source": [
    "function disCor(id, dt)\n",
    "    pos = dt[id][\"ccfCoords\"]\n",
    "    sc = dt[id][\"stall\"]\n",
    "    corr = vec(Statistics.cor(sc, dims=2))\n",
    "    dist = vec(Distances.pairwise(Euclidean(), pos, dims=1))\n",
    "    println(Statistics.cor(corr, dist))\n",
    "    scatter(dist/maximum(dist), corr, xlabel=\"Distance\", ylabel=\"Correlation\")\n",
    "end"
   ]
  },
  {
   "cell_type": "code",
   "execution_count": null,
   "metadata": {},
   "outputs": [
    {
     "name": "stdout",
     "output_type": "stream",
     "text": [
      "-0.14536286745123275\n"
     ]
    }
   ],
   "source": [
    "disCor(1, data)"
   ]
  },
  {
   "cell_type": "code",
   "execution_count": 10,
   "metadata": {},
   "outputs": [
    {
     "name": "stdout",
     "output_type": "stream",
     "text": [
      "-0.13901436887905463\n"
     ]
    }
   ],
   "source": [
    "disCor(2, data)"
   ]
  },
  {
   "cell_type": "code",
   "execution_count": 11,
   "metadata": {},
   "outputs": [
    {
     "name": "stdout",
     "output_type": "stream",
     "text": [
      "-0.0881583492481717\n"
     ]
    }
   ],
   "source": [
    "disCor(3, data)"
   ]
  },
  {
   "cell_type": "code",
   "execution_count": null,
   "metadata": {},
   "outputs": [],
   "source": []
  }
 ],
 "metadata": {
  "kernelspec": {
   "display_name": "JuliaPro_v1.5.3-1 1.5.3",
   "language": "julia",
   "name": "juliapro_v1.5.3-1-1.5"
  },
  "language_info": {
   "file_extension": ".jl",
   "mimetype": "application/julia",
   "name": "julia",
   "version": "1.5.3"
  }
 },
 "nbformat": 4,
 "nbformat_minor": 4
}
