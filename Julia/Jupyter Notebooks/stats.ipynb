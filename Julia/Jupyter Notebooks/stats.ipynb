{
 "cells": [
  {
   "cell_type": "code",
   "execution_count": 4,
   "metadata": {},
   "outputs": [],
   "source": [
    "from scipy.io import loadmat\n",
    "from statsmodels.tsa.stattools import adfuller\n",
    "from statsmodels.tsa.ar_model import AutoReg"
   ]
  },
  {
   "cell_type": "code",
   "execution_count": 2,
   "metadata": {},
   "outputs": [],
   "source": [
    "names = [\"Krebs\", \"Waksman\", \"Robbins\"]\n",
    "ID = 0\n",
    "dataset = loadmat(\"../../Data/source/{}withFaces_KS2.mat\".format(names[ID]))"
   ]
  },
  {
   "cell_type": "code",
   "execution_count": 3,
   "metadata": {},
   "outputs": [],
   "source": [
    "sc = dataset[\"stall\"]\n",
    "N, T = sc.shape"
   ]
  },
  {
   "cell_type": "markdown",
   "metadata": {},
   "source": [
    "## Dickey-Fuller Test"
   ]
  },
  {
   "cell_type": "code",
   "execution_count": 4,
   "metadata": {},
   "outputs": [
    {
     "name": "stdout",
     "output_type": "stream",
     "text": [
      "376 -2.6949905498811217 0.07490914147166668\n",
      "401 -2.7026995451600793 0.07357229366410187\n",
      "405 -2.747760421515402 0.06613193762472888\n"
     ]
    }
   ],
   "source": [
    "for i in range(N):\n",
    "    res = adfuller(sc[i, :])\n",
    "    if res[1] > 0.05:\n",
    "        print(i, res[0], res[1])"
   ]
  },
  {
   "cell_type": "code",
   "execution_count": 8,
   "metadata": {},
   "outputs": [],
   "source": [
    "for i in range(N):\n",
    "    res = adfuller(sc[i, :])\n",
    "    if res[1] > 0.05:\n",
    "        print(i, res[0], res[1])"
   ]
  },
  {
   "cell_type": "code",
   "execution_count": 11,
   "metadata": {},
   "outputs": [],
   "source": [
    "for i in range(N):\n",
    "    res = adfuller(sc[i, :])\n",
    "    if res[1] > 0.05:\n",
    "        print(i, res[0], res[1])"
   ]
  },
  {
   "cell_type": "markdown",
   "metadata": {},
   "source": [
    "## Approximate AR Order"
   ]
  },
  {
   "cell_type": "code",
   "execution_count": null,
   "metadata": {},
   "outputs": [],
   "source": []
  }
 ],
 "metadata": {
  "kernelspec": {
   "display_name": "Python 3",
   "language": "python",
   "name": "python3"
  },
  "language_info": {
   "codemirror_mode": {
    "name": "ipython",
    "version": 3
   },
   "file_extension": ".py",
   "mimetype": "text/x-python",
   "name": "python",
   "nbconvert_exporter": "python",
   "pygments_lexer": "ipython3",
   "version": "3.8.8"
  }
 },
 "nbformat": 4,
 "nbformat_minor": 4
}
