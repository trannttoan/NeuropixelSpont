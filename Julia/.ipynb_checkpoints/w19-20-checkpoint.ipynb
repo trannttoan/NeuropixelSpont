{
 "cells": [
  {
   "cell_type": "markdown",
   "metadata": {},
   "source": [
    "# Analysis of eight-probe Neuropixels recordings of spontaneous neural activity in mice (w19-20)\n",
    "---\n",
    "### Tasks\n",
    "- Plot neural spike train reordered/clustered\n",
    "- Plot average spikes over time\n",
    "- Ensure the validity of the 3D coordinates of neurons"
   ]
  },
  {
   "cell_type": "code",
   "execution_count": 1,
   "metadata": {},
   "outputs": [],
   "source": [
    "using Plots, Measures; gr()\n",
    "using MAT, Printf\n",
    "using LinearAlgebra, Statistics, Random\n",
    "using Clustering, Distances\n",
    "using InformationMeasures\n",
    "using Ripserer\n",
    "using BenchmarkTools"
   ]
  },
  {
   "cell_type": "code",
   "execution_count": 2,
   "metadata": {},
   "outputs": [],
   "source": [
    "# Load all data in a three-element array of dictionaries\n",
    "# Each element corresponding to each mouse maps variable names to their contents  \n",
    "mice_names = [\"Krebs\", \"Waksman\", \"Robbins\"]\n",
    "data = [MAT.matread(\"../Data/source/$(mice_names[i])withFaces_KS2.mat\") for i in 1:3];"
   ]
  },
  {
   "cell_type": "markdown",
   "metadata": {},
   "source": [
    "### Visualize spike train"
   ]
  },
  {
   "cell_type": "code",
   "execution_count": 21,
   "metadata": {},
   "outputs": [
    {
     "data": {
      "text/plain": [
       "spktrainDisp (generic function with 2 methods)"
      ]
     },
     "execution_count": 21,
     "metadata": {},
     "output_type": "execute_result"
    }
   ],
   "source": [
    "function spktrainDisp(data, id, plot_type; clust=false, binary=false)\n",
    "    spktrain = data[id][\"stall\"]\n",
    "    regIDs = data[id][\"brainLoc\"]\n",
    "    reglbs = data[id][\"areaLabels\"]\n",
    "    \n",
    "    cap = binary ? 1 : 36      # 36 is the highest number of spikes for a single sample and single neuron\n",
    "    N, T = size(spktrain)      # N : number of neurons, T : number of samples (sampling rate x recording time)\n",
    "\n",
    "    unique_regIDs = convert(Array{Int64, 1}, sort(unique(regIDs)))\n",
    "    unique_regIDs = unique_regIDs[1] == 0 ? unique_regIDs[2:end] : unique_regIDs\n",
    "    n_reg = length(unique_regIDs)\n",
    "    plot_holder = Array{Plots.Plot{Plots.GRBackend}}(undef, n_reg)\n",
    "    plot_heights = Array{Float64, 1}(undef, n_reg)\n",
    "\n",
    "    if plot_type == :average\n",
    "        println(\"Number of neurons|Range of average number of spikes\")\n",
    "    end\n",
    "    \n",
    "    for i=1:n_reg\n",
    "        filter = vec(regIDs .== unique_regIDs[i])\n",
    "        n_neuron_reg = sum(filter)\n",
    "        if plot_type == :heatmap\n",
    "            plot_heights[i] = round(n_neuron_reg/N; digits=3)\n",
    "            spktrain_reg = spktrain[filter, :]\n",
    "            if clust\n",
    "                C = Statistics.cor(spktrain_reg, dims=2)\n",
    "                D = Distances.pairwise(Distances.CosineDist(), C, dims=1)\n",
    "                res = Clustering.hclust(D, linkage=:average)\n",
    "                sort_idx = res.order\n",
    "            else\n",
    "                sort_idx = 1:n_neuron_reg\n",
    "            end \n",
    "            plot_holder[i] = heatmap(spktrain_reg[sort_idx, :], title=reglbs[unique_regIDs[i]], clims=(0, cap),\n",
    "                             color=cgrad(:grays, rev=true), colorbar=false, axis=false, ticks=false)\n",
    "        elseif plot_type == :average\n",
    "            plot_heights[i] = round(1/n_reg; digits=3)\n",
    "            avg_spks = mean(spktrain[filter, :], dims=1)\n",
    "            plot_holder[i] = plot(transpose(avg_spks), title=reglbs[unique_regIDs[i]],\n",
    "                                  ylim=(0,3), ticks=false, grid=false, legend=false, widen=false)\n",
    "            println(reglbs[unique_regIDs[i]] * \": $(sum(filter))|[$(round(minimum(avg_spks); digits=4)), $(round(maximum(avg_spks); digits=4))]\")\n",
    "        end\n",
    "    end\n",
    "    \n",
    "    plot(plot_holder..., titleposition=:left, titlefontsize=20,\n",
    "         layout=grid(n_reg, 1, heights=plot_heights), size=(round(T/10), N))\n",
    "\n",
    "    savefig(\"../Plots/spktrain_$(plot_type)_M$(id).png\")\n",
    "end"
   ]
  },
  {
   "cell_type": "code",
   "execution_count": 24,
   "metadata": {},
   "outputs": [
    {
     "ename": "LoadError",
     "evalue": "ArgumentError: Distance matrix should be symmetric.",
     "output_type": "error",
     "traceback": [
      "ArgumentError: Distance matrix should be symmetric.",
      "",
      "Stacktrace:",
      " [1] assertdistancematrix at C:\\Users\\trann\\.julia\\packages\\Clustering\\tt9vc\\src\\hclust.jl:48 [inlined]",
      " [2] hclust(::Array{Float64,2}; linkage::Symbol, uplo::Nothing, branchorder::Symbol) at C:\\Users\\trann\\.julia\\packages\\Clustering\\tt9vc\\src\\hclust.jl:757",
      " [3] spktrainDisp(::Array{Dict{String,Any},1}, ::Int64, ::Symbol; clust::Bool, binary::Bool) at .\\In[21]:27",
      " [4] top-level scope at In[24]:1",
      " [5] include_string(::Function, ::Module, ::String, ::String) at .\\loading.jl:1091",
      " [6] execute_code(::String, ::String) at C:\\Users\\trann\\.julia\\packages\\IJulia\\a1SNk\\src\\execute_request.jl:27",
      " [7] execute_request(::ZMQ.Socket, ::IJulia.Msg) at C:\\Users\\trann\\.julia\\packages\\IJulia\\a1SNk\\src\\execute_request.jl:86",
      " [8] #invokelatest#1 at .\\essentials.jl:710 [inlined]",
      " [9] invokelatest at .\\essentials.jl:709 [inlined]",
      " [10] eventloop(::ZMQ.Socket) at C:\\Users\\trann\\.julia\\packages\\IJulia\\a1SNk\\src\\eventloop.jl:8",
      " [11] (::IJulia.var\"#15#18\")() at .\\task.jl:356"
     ]
    }
   ],
   "source": [
    "spktrainDisp(data, 1, :heatmap, clust=true, binary=true)"
   ]
  },
  {
   "cell_type": "code",
   "execution_count": 25,
   "metadata": {},
   "outputs": [],
   "source": [
    "spktrainDisp(data, 2, :heatmap, clust=true, binary=true)"
   ]
  },
  {
   "cell_type": "code",
   "execution_count": 16,
   "metadata": {},
   "outputs": [
    {
     "name": "stdout",
     "output_type": "stream",
     "text": [
      "Number of neurons|Range of average number of spikes\n",
      "FrMoCtx: 86|[0.0, 0.8023]\n",
      "SomMoCtx: 10|[0.0, 1.8]\n",
      "RSP: 10|[0.0, 1.4]\n",
      "CP: 134|[0.0, 0.6791]\n",
      "LS: 4|[0.0, 3.0]\n",
      "LH: 4|[0.0, 2.75]\n",
      "HPF: 155|[0.0, 2.0387]\n",
      "TH: 1878|[0.0298, 0.7311]\n"
     ]
    }
   ],
   "source": [
    "spktrainDisp(data, 3, :average, true)"
   ]
  },
  {
   "cell_type": "code",
   "execution_count": 20,
   "metadata": {},
   "outputs": [
    {
     "name": "stdout",
     "output_type": "stream",
     "text": [
      "Hello doofus!\n"
     ]
    }
   ],
   "source": [
    "function test(; str=\"World\")\n",
    "    println(\"Hello $(str)!\")\n",
    "end\n",
    "\n",
    "test(str=\"doofus\")"
   ]
  }
 ],
 "metadata": {
  "kernelspec": {
   "display_name": "JuliaPro_v1.5.3-1 1.5.3",
   "language": "julia",
   "name": "juliapro_v1.5.3-1-1.5"
  },
  "language_info": {
   "file_extension": ".jl",
   "mimetype": "application/julia",
   "name": "julia",
   "version": "1.5.3"
  }
 },
 "nbformat": 4,
 "nbformat_minor": 4
}
